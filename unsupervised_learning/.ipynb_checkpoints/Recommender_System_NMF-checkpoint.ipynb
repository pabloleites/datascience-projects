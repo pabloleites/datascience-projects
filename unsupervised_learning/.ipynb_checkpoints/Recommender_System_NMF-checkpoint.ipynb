{
 "cells": [
  {
   "cell_type": "code",
   "execution_count": 27,
   "id": "056948ff",
   "metadata": {},
   "outputs": [],
   "source": [
    "import pandas as pd\n",
    "from sklearn.decomposition import NMF\n",
    "from sklearn.preprocessing import Normalizer, MaxAbsScaler\n",
    "from sklearn.pipeline import make_pipeline\n",
    "from scipy.sparse import csr_matrix"
   ]
  },
  {
   "cell_type": "code",
   "execution_count": 37,
   "id": "a4392672",
   "metadata": {},
   "outputs": [
    {
     "data": {
      "text/plain": [
       "array(['Massive Attack', 'Sublime', 'Beastie Boys', 'Neil Young',\n",
       "       'Dead Kennedys', 'Orbital', 'Miles Davis', 'Leonard Cohen',\n",
       "       'Van Morrison', 'NOFX', 'Rancid', 'Lamb', 'Korn',\n",
       "       'Dropkick Murphys', 'Bob Dylan', 'Eminem', 'Nirvana', 'Van Halen',\n",
       "       'Damien Rice', 'Elvis Costello', 'Everclear', 'Jimi Hendrix',\n",
       "       'PJ Harvey', 'Red Hot Chili Peppers', 'Ryan Adams', 'Soundgarden',\n",
       "       'The White Stripes', 'Madonna', 'Eric Clapton', 'Bob Marley',\n",
       "       'Dr. Dre', 'The Flaming Lips', 'Tom Waits', 'Moby', 'Cypress Hill',\n",
       "       'Garbage', 'Fear Factory', '50 Cent', 'Ani DiFranco',\n",
       "       'Matchbox Twenty', 'The Police', 'Eagles', 'Phish',\n",
       "       'Stone Temple Pilots', 'Black Sabbath', 'Britney Spears',\n",
       "       'Fatboy Slim', 'System of a Down', 'Simon & Garfunkel',\n",
       "       'Snoop Dogg', 'Aimee Mann', 'Less Than Jake', 'Rammstein',\n",
       "       'Reel Big Fish', 'The Prodigy', 'Pantera', 'Foo Fighters',\n",
       "       'The Beatles', 'Incubus', 'Audioslave', 'Bright Eyes',\n",
       "       'Machine Head', 'AC/DC', 'Dire Straits', 'Motörhead', 'Ramones',\n",
       "       'Slipknot', 'Me First and the Gimme Gimmes', 'Bruce Springsteen',\n",
       "       'Queens of the Stone Age', 'The Chemical Brothers', 'Bon Jovi',\n",
       "       'Goo Goo Dolls', 'Alice in Chains', 'Howard Shore',\n",
       "       'Barenaked Ladies', 'Anti-Flag', 'Nick Cave and the Bad Seeds',\n",
       "       'Static-X', 'Misfits', '2Pac', 'Sparta', 'Interpol',\n",
       "       'The Crystal Method', 'The Beach Boys', 'Goldfrapp',\n",
       "       'Bob Marley & the Wailers', 'Kylie Minogue', 'The Blood Brothers',\n",
       "       'Mirah', 'Ludacris', 'Snow Patrol', 'The Mars Volta',\n",
       "       'Yeah Yeah Yeahs', 'Iced Earth', 'Fiona Apple', 'Rilo Kiley',\n",
       "       'Rufus Wainwright', 'Flogging Molly', 'Hot Hot Heat', 'Dredg',\n",
       "       'Switchfoot', 'Tegan and Sara', 'Rage Against the Machine',\n",
       "       'Keane', 'Jet', 'Franz Ferdinand', 'The Postal Service',\n",
       "       'The Dresden Dolls', 'The Killers', 'Death From Above 1979'],\n",
       "      dtype=object)"
      ]
     },
     "execution_count": 37,
     "metadata": {},
     "output_type": "execute_result"
    }
   ],
   "source": [
    "#Importing the sparce array\n",
    "df = pd.read_csv('datasets/scrobbler-small-sample.csv')\n",
    "df2 = pd.read_csv('datasets/artists.csv',header=None)\n",
    "artists = csr_matrix(df.pivot_table(values='playcount',index='user_offset',\n",
    "                                    columns='artist_offset', fill_value=0).transpose())\n",
    "artist_names = df2[0].to_numpy()\n",
    "artist_names"
   ]
  },
  {
   "cell_type": "code",
   "execution_count": 36,
   "id": "1fe91311",
   "metadata": {},
   "outputs": [
    {
     "name": "stderr",
     "output_type": "stream",
     "text": [
      "/home/pabloleites/anaconda3/lib/python3.8/site-packages/sklearn/decomposition/_nmf.py:312: FutureWarning: The 'init' value, when 'init=None' and n_components is less than n_samples and n_features, will be changed from 'nndsvd' to 'nndsvda' in 1.1 (renaming of 0.26).\n",
      "  warnings.warn((\"The 'init' value, when 'init=None' and \"\n"
     ]
    },
    {
     "data": {
      "text/plain": [
       "2220"
      ]
     },
     "execution_count": 36,
     "metadata": {},
     "output_type": "execute_result"
    }
   ],
   "source": [
    "# MaxAbsScaler transforms the data so that all users have the same influence on the model\n",
    "scaler = MaxAbsScaler()\n",
    "\n",
    "# Create an NMF model\n",
    "nmf = NMF(n_components=20)\n",
    "\n",
    "# Create a Normalizer\n",
    "normalizer = Normalizer()\n",
    "\n",
    "# Create a pipeline: pipeline\n",
    "pipeline = make_pipeline(scaler, nmf, normalizer)\n",
    "\n",
    "# Apply fit_transform to artists: norm_features\n",
    "norm_features = pipeline.fit_transform(artists)\n",
    "norm_features.size"
   ]
  },
  {
   "cell_type": "code",
   "execution_count": 45,
   "id": "3296a8c8",
   "metadata": {},
   "outputs": [
    {
     "data": {
      "text/plain": [
       "Bruce Springsteen    1.000000\n",
       "Neil Young           0.956568\n",
       "Van Morrison         0.873917\n",
       "Leonard Cohen        0.867063\n",
       "Bob Dylan            0.860958\n",
       "dtype: float64"
      ]
     },
     "execution_count": 45,
     "metadata": {},
     "output_type": "execute_result"
    }
   ],
   "source": [
    "# Create a DataFrame: df\n",
    "df = pd.DataFrame(norm_features, index=artist_names)\n",
    "\n",
    "# Select row of 'Bruce Springsteen': artist\n",
    "artist = df.loc['Bruce Springsteen']\n",
    "\n",
    "# Compute cosine similarities: similarities\n",
    "similarities = df.dot(artist)\n",
    "\n",
    "# Display those with highest cosine similarity\n",
    "similarities.nlargest()"
   ]
  },
  {
   "cell_type": "code",
   "execution_count": null,
   "id": "9a4a973a",
   "metadata": {},
   "outputs": [],
   "source": []
  }
 ],
 "metadata": {
  "kernelspec": {
   "display_name": "Python 3",
   "language": "python",
   "name": "python3"
  },
  "language_info": {
   "codemirror_mode": {
    "name": "ipython",
    "version": 3
   },
   "file_extension": ".py",
   "mimetype": "text/x-python",
   "name": "python",
   "nbconvert_exporter": "python",
   "pygments_lexer": "ipython3",
   "version": "3.8.5"
  }
 },
 "nbformat": 4,
 "nbformat_minor": 5
}
